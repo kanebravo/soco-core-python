{
 "cells": [
  {
   "cell_type": "markdown",
   "metadata": {},
   "source": [
    "# Build QA system from docs"
   ]
  },
  {
   "cell_type": "markdown",
   "metadata": {},
   "source": [
    "The tutorial is a simple project teaching you how to easily build a QA system from docs using SOCO AI. Let’s get started with SOCO!\n",
    "\n",
    "You’ll learn how to:\n",
    "\n",
    "* Create and use a task\n",
    "* Add data to soco server\n",
    "* Publish your data and generate QA system\n",
    "* Qurey from trained data with code"
   ]
  },
  {
   "cell_type": "markdown",
   "metadata": {},
   "source": [
    "## Get started\n",
    "To get started, you will first need to visit [SOCO.AI](http://app.soco.ai/).\n",
    "All you need to do is sign up and create a new account, and it's totally free!\n",
    "\n",
    "After you create a account, you will see your dashboard. Press the \"New Task\" button on the top right.\n",
    "\n",
    "When creating a new task, you can customize your task name, language and preview url.\n",
    "* **Task name**: This is for you and soco to identify which task to work on\n",
    "* **Language**: You can choose which language you want to train, soco supports English and Chinese right now. \n",
    "* **Preview Url**: This is for previewing your QA system"
   ]
  },
  {
   "cell_type": "markdown",
   "metadata": {},
   "source": [
    "Now let's start coding. First import SOCOClient to get started\n",
    "\n",
    "(Don't know how to install SOCO? [check here](https://docs.soco.ai/getting-strarted/quick-start))"
   ]
  },
  {
   "cell_type": "code",
   "execution_count": 2,
   "metadata": {},
   "outputs": [],
   "source": [
    "from soco_core.soco_client import SOCOClient"
   ]
  },
  {
   "cell_type": "markdown",
   "metadata": {},
   "source": [
    "Now go to your SOCO Dashbaord and jump to the task your created just now. You should be able to see the ADMIN_API_KEY. Click on the button to copy the key and paster it below.\n",
    "\n",
    "With this key, SOCO will know which task it should handle"
   ]
  },
  {
   "cell_type": "code",
   "execution_count": 1,
   "metadata": {},
   "outputs": [
    {
     "ename": "SyntaxError",
     "evalue": "invalid syntax (<ipython-input-1-abbf20c9e19b>, line 1)",
     "output_type": "error",
     "traceback": [
      "\u001b[1;36m  File \u001b[1;32m\"<ipython-input-1-abbf20c9e19b>\"\u001b[1;36m, line \u001b[1;32m1\u001b[0m\n\u001b[1;33m    ADMIN_API_KEY = # copy your ADMIN_API_Key here\u001b[0m\n\u001b[1;37m                                                  ^\u001b[0m\n\u001b[1;31mSyntaxError\u001b[0m\u001b[1;31m:\u001b[0m invalid syntax\n"
     ]
    }
   ],
   "source": [
    "ADMIN_API_KEY = # copy your ADMIN_API_Key here\n",
    "a_client = SOCOClient(ADMIN_API_KEY)"
   ]
  },
  {
   "cell_type": "markdown",
   "metadata": {},
   "source": [
    "##  Prepare your data\n",
    "In this tutorial, we will provide parsed wiki data where you can [download here](https://drive.google.com/file/d/1j1zYSstG5ND3gohIDhZo-HwUt0ceCokV/view?usp=sharing).\n",
    "\n",
    "SOCO also provide a best-in-class AI document parser to convert raw documents into manageable data. [See how it works ](https://docs.soco.ai/index-data/parse-files)"
   ]
  },
  {
   "cell_type": "code",
   "execution_count": 9,
   "metadata": {},
   "outputs": [],
   "source": [
    "import json\n",
    "import os"
   ]
  },
  {
   "cell_type": "code",
   "execution_count": 10,
   "metadata": {},
   "outputs": [],
   "source": [
    "docs = []\n",
    "# get all the data file in the docs folder\n",
    "for file in os.listdir(\"docs\"):\n",
    "    docs.append(json.load(open(\"docs/\"+file, \"r\")))"
   ]
  },
  {
   "cell_type": "markdown",
   "metadata": {},
   "source": [
    "Notice that your data need to follow soco doc format. You can check details [here](https://docs.soco.ai/index-data/manage-data)\n",
    "\n",
    "In this tutorial, all data is all ready to use, so don't worry."
   ]
  },
  {
   "cell_type": "markdown",
   "metadata": {},
   "source": [
    "## Add data to server\n",
    "To add data to server, you should first create a task on soco.ai"
   ]
  },
  {
   "cell_type": "markdown",
   "metadata": {},
   "source": [
    "Now you've linked to soco server and you have the data ready, it's time to add those data to the server!\n",
    "\n",
    "You can do this with a simple line of code:"
   ]
  },
  {
   "cell_type": "code",
   "execution_count": null,
   "metadata": {},
   "outputs": [],
   "source": [
    "a_client.add_data(docs)"
   ]
  },
  {
   "cell_type": "markdown",
   "metadata": {},
   "source": [
    "And that's it! It may take some time to index the data, you can open your soco dashboard to see whether the task is ready to publish."
   ]
  },
  {
   "cell_type": "markdown",
   "metadata": {},
   "source": [
    "## Publish Data\n",
    "After indexing is down, you can publish your task with a simple line of code:"
   ]
  },
  {
   "cell_type": "code",
   "execution_count": null,
   "metadata": {},
   "outputs": [],
   "source": [
    "a_client.publish()"
   ]
  },
  {
   "cell_type": "markdown",
   "metadata": {},
   "source": [
    "You will see the real-time progressing in your code or you can check it on soco dashboard.\n",
    "\n",
    "After this is done, we can move to the last step."
   ]
  },
  {
   "cell_type": "markdown",
   "metadata": {},
   "source": [
    "## Query Data\n",
    "\n",
    "Now you can start viewing your QA system！ Here're two ways to do this:\n",
    "\n",
    "1. You can go to your task dashboard and hit the preview button and start asking question in the search bar\n",
    "![title](img/preview.png)\n",
    "2. You can use the code below to query  ([see how to query with code](https://docs.soco.ai/query-soco/query-for-precise-answers))"
   ]
  },
  {
   "cell_type": "code",
   "execution_count": null,
   "metadata": {},
   "outputs": [
    {
     "name": "stdout",
     "output_type": "stream",
     "text": [
      "Type you question\n",
      "who is Melinda Ann Gates\n",
      "(10.043925) - Melinda Ann Gates DBE (née French; August 15, 1964) is an American philanthropist and a former general manager at Microsoft.\n"
     ]
    }
   ],
   "source": [
    "while True:\n",
    "    q = input('Type you question\\n')\n",
    "    responses = a_client.query({\"query\": q, \"n_best\": 1})\n",
    "    SOCOClient.pprint(responses)"
   ]
  },
  {
   "cell_type": "markdown",
   "metadata": {},
   "source": [
    "Here's how it look\n",
    "![title](img/coderesult.png)"
   ]
  },
  {
   "cell_type": "code",
   "execution_count": null,
   "metadata": {},
   "outputs": [],
   "source": []
  }
 ],
 "metadata": {
  "kernelspec": {
   "display_name": "Python 3",
   "language": "python",
   "name": "python3"
  },
  "language_info": {
   "codemirror_mode": {
    "name": "ipython",
    "version": 3
   },
   "file_extension": ".py",
   "mimetype": "text/x-python",
   "name": "python",
   "nbconvert_exporter": "python",
   "pygments_lexer": "ipython3",
   "version": "3.7.4"
  }
 },
 "nbformat": 4,
 "nbformat_minor": 1
}
